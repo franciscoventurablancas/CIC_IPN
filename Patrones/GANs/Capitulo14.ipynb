{
  "nbformat": 4,
  "nbformat_minor": 0,
  "metadata": {
    "colab": {
      "name": "Capitulo14.ipynb",
      "provenance": []
    },
    "kernelspec": {
      "name": "python3",
      "display_name": "Python 3"
    },
    "language_info": {
      "name": "python"
    }
  },
  "cells": [
    {
      "cell_type": "code",
      "metadata": {
        "id": "n3SqtQtBHOxn"
      },
      "source": [
        "import  numpy as np\n",
        "\n",
        "\n",
        "def loadExData():\n",
        "    return [[0, 0, 0, 2, 2],\n",
        "            [0, 5, 0, 3, 3],\n",
        "            [0, 0, 0, 1, 1],\n",
        "            [1, 1, 1, 0, 0],\n",
        "            [2, 1, 2, 4, 0],\n",
        "            [5, 5, 5, 3, 0],\n",
        "            [1, 1, 1, 2, 0]]"
      ],
      "execution_count": null,
      "outputs": []
    },
    {
      "cell_type": "code",
      "metadata": {
        "id": "wAHlU53THSSJ"
      },
      "source": [
        "def loadExData2():\n",
        "    return [[0, 0, 0, 0, 0, 4, 0, 0, 0, 0, 5],\n",
        "            [0, 0, 0, 3, 0, 4, 0, 0, 0, 0, 3],\n",
        "            [0, 0, 0, 0, 4, 0, 0, 1, 0, 4, 0],\n",
        "            [3, 3, 4, 0, 0, 0, 0, 2, 2, 0, 0],\n",
        "            [5, 4, 5, 0, 0, 0, 0, 5, 5, 0, 0],\n",
        "            [0, 0, 0, 0, 5, 0, 1, 0, 0, 5, 0],\n",
        "            [4, 3, 4, 0, 0, 0, 0, 5, 5, 0, 1],\n",
        "            [0, 0, 0, 4, 0, 4, 0, 0, 0, 0, 4],\n",
        "            [0, 0, 0, 2, 0, 2, 5, 0, 0, 1, 2],\n",
        "            [0, 0, 0, 0, 5, 0, 0, 0, 0, 4, 0],\n",
        "            [1, 0, 0, 0, 0, 0, 0, 1, 2, 0, 0]]\n"
      ],
      "execution_count": null,
      "outputs": []
    },
    {
      "cell_type": "code",
      "metadata": {
        "id": "9yOEnztxHUzd"
      },
      "source": [
        "def ecludSim(inA,inB):\n",
        "    return 1.0/(1.0+np.linalg.norm(inA-inB))"
      ],
      "execution_count": null,
      "outputs": []
    },
    {
      "cell_type": "code",
      "metadata": {
        "id": "Gr5dTGjPHX-y"
      },
      "source": [
        "def pearsSim(inA,inB):\n",
        "    if len(inA)<3:return 1.0\n",
        "    return 0.5+0.5*np.corrcoef(inA,inB,rowvar=0)[0][1]\n"
      ],
      "execution_count": null,
      "outputs": []
    },
    {
      "cell_type": "code",
      "metadata": {
        "id": "MbY5PC0_Hdta"
      },
      "source": [
        "def cosSim(inA,inB):\n",
        "    num=float(inA.T*inB)\n",
        "    denom=np.linalg.norm(inA)*np.linalg.norm(inB)\n",
        "    return 0.5+0.5*(num/denom)\n"
      ],
      "execution_count": null,
      "outputs": []
    },
    {
      "cell_type": "code",
      "metadata": {
        "id": "uf1bCKS6HhDK"
      },
      "source": [
        "def standEst(dataMat,user,simMeas,item):\n",
        "    n=np.shape(dataMat)[1]\n",
        "    simTotal=0.0;ratSimTotal=0.0\n",
        "    for j in range(n):\n",
        "        userRating=dataMat[user,j]\n",
        "        if userRating==0 or j==item:continue\n",
        "        overlap=np.nonzero(np.logical_and(dataMat[:,item].A>0,dataMat[:,j].A>0))[0]\n",
        "        if len(overlap)==0:similarity=0\n",
        "        else:similarity=simMeas(dataMat[overlap,j],dataMat[overlap,item])\n",
        "        print('the {:d} and {:d} similarity is:{:.6f}'.format(item,j,similarity))\n",
        "        simTotal+=similarity\n",
        "        ratSimTotal+=similarity*userRating\n",
        "    if simTotal==0:return 0\n",
        "    else: return ratSimTotal/simTotal\n"
      ],
      "execution_count": null,
      "outputs": []
    },
    {
      "cell_type": "code",
      "metadata": {
        "id": "VYTZmbndHkFc"
      },
      "source": [
        "def recommend(dataMat,user,N=3,simMeas=cosSim,estMethod=standEst):\n",
        "    unratedItems=np.nonzero(dataMat[user,:].A==0)[1]\n",
        "    if len(unratedItems)==0:return 'all rated'\n",
        "    itemScores=[(item,estMethod(dataMat,user,simMeas,item)) for item in unratedItems]\n",
        "    # itemScores = []\n",
        "    # for item in unratedItems:\n",
        "    #     estimatedScore=estMethod(dataMat,user,simMeas,item)\n",
        "    #     itemScores.append((item,estimatedScore))\n",
        "    return sorted(itemScores,key=lambda x:x[1],reverse=True)"
      ],
      "execution_count": null,
      "outputs": []
    },
    {
      "cell_type": "code",
      "metadata": {
        "id": "HJOiGGwdHvBg"
      },
      "source": [
        "def svdEst(dataMat,user,simMeas,item):\n",
        "    n=np.shape(dataMat)[1]\n",
        "    simTotal=0.0;ratSimTotal=0.0\n",
        "    U,Sigma,VT=np.linalg.svd(dataMat)\n",
        "    Sig4=np.mat(np.eye(4)*Sigma[:4])\n",
        "    xfromedItems=dataMat.T*U[:,:4]*Sig4.I\n",
        "    for j in range(n):\n",
        "        userRating =dataMat[user,j]\n",
        "        if userRating==0 or j==item: continue\n",
        "        similarity=simMeas(xfromedItems[item,:].T,xfromedItems[j,:].T)\n",
        "        print('the {:d} and {:d} similarity is:{:.6f}'.format(item, j, similarity))\n",
        "        simTotal += similarity\n",
        "        ratSimTotal += similarity * userRating\n",
        "    if simTotal == 0:\n",
        "        return 0\n",
        "    else:\n",
        "        return ratSimTotal / simTotal"
      ],
      "execution_count": null,
      "outputs": []
    },
    {
      "cell_type": "code",
      "metadata": {
        "id": "1WWMjtR4Hze-"
      },
      "source": [
        "def printMat(inMat, thresh=0.8):\n",
        "    for i in range(32):\n",
        "        for k in range(32):\n",
        "            if float(inMat[i,k]) > thresh:\n",
        "                print(1,end='')   \n",
        "            else: print(0,end='')\n",
        "        print (' ')\n"
      ],
      "execution_count": null,
      "outputs": []
    },
    {
      "cell_type": "code",
      "metadata": {
        "id": "2oQ5o_UNH155"
      },
      "source": [
        "def imgCompress(numSV=3, thresh=0.8):\n",
        "    myl = []\n",
        "    for line in open(r'0_5.txt').readlines():\n",
        "        newRow = []\n",
        "        for i in range(32):\n",
        "            newRow.append(int(line[i]))\n",
        "        myl.append(newRow)\n",
        "    myMat = np.mat(myl)\n",
        "    print (\"****original matrix******\")\n",
        "    printMat(myMat, thresh)\n",
        "    U,Sigma,VT = np.linalg.svd(myMat)\n",
        "    SigRecon = np.mat(np.zeros((numSV, numSV)))\n",
        "    for k in range(numSV):#construct diagonal matrix from vector\n",
        "        SigRecon[k,k] = Sigma[k]\n",
        "    reconMat = U[:,:numSV]*SigRecon*VT[:numSV,:]\n",
        "    print (\"****reconstructed matrix using %d singular values******\" % numSV)\n",
        "    printMat(reconMat, thresh)"
      ],
      "execution_count": null,
      "outputs": []
    },
    {
      "cell_type": "code",
      "metadata": {
        "colab": {
          "base_uri": "https://localhost:8080/",
          "height": 519
        },
        "id": "f8A4toGmRxek",
        "outputId": "1699f4af-80d3-4615-ae6e-7dd701c3c6b3"
      },
      "source": [
        "# -*- coding: utf-8 -*-\n",
        " \n",
        "import numpy as np\n",
        "import numpy.linalg as la\n",
        "import matplotlib.pyplot as plt\n",
        "from sklearn import datasets\n",
        "from skimage import io\n",
        "\n",
        " \n",
        "def getImgAsMat(index):\n",
        "    ds = datasets.fetch_olivetti_faces()\n",
        "    return np.mat(ds.images[index])\n",
        " \n",
        "def getImgAsMatFromFile(filename):\n",
        "    img = io.imread(filename, as_grey=True)\n",
        "    return np.mat(img) \n",
        " \n",
        "def plotImg(imgMat):\n",
        "    plt.imshow(imgMat, cmap=plt.cm.gray)\n",
        "    plt.show()\n",
        " \n",
        "def recoverBySVD(imgMat, k):\n",
        "    # singular value decomposition\n",
        "    U, s, V = la.svd(imgMat)\n",
        "    # choose top k important singular values (or eigens)\n",
        "    Uk = U[:, 0:k]\n",
        "    Sk = np.diag(s[0:k])\n",
        "    Vk = V[0:k, :]\n",
        "    # recover the image\n",
        "    imgMat_new = Uk * Sk * Vk\n",
        "    return imgMat_new\n",
        " \n",
        " \n",
        "# -------------------- main --------------------- #\n",
        "A = getImgAsMat(0)\n",
        "plotImg(A)\n",
        "A_new = recoverBySVD(A, 20)\n",
        "plotImg(A_new)"
      ],
      "execution_count": null,
      "outputs": [
        {
          "output_type": "display_data",
          "data": {
            "image/png": "[encoded data removed]",
            "text/plain": [
              "<Figure size 432x288 with 1 Axes>"
            ]
          },
          "metadata": {
            "needs_background": "light"
          }
        },
        {
          "output_type": "display_data",
          "data": {
            "image/png": "[encoded data removed]",
            "text/plain": [
              "<Figure size 432x288 with 1 Axes>"
            ]
          },
          "metadata": {
            "needs_background": "light"
          }
        }
      ]
    }
  ]
}