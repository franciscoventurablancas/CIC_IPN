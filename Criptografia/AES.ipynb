{
  "nbformat": 4,
  "nbformat_minor": 0,
  "metadata": {
    "colab": {
      "name": "AES.ipynb",
      "provenance": []
    },
    "kernelspec": {
      "name": "python3",
      "display_name": "Python 3"
    },
    "language_info": {
      "name": "python"
    }
  },
  "cells": [
    {
      "cell_type": "code",
      "execution_count": null,
      "metadata": {
        "id": "lOdWX8SCLBm7"
      },
      "outputs": [],
      "source": [
        "import test\n"
      ]
    },
    {
      "cell_type": "code",
      "source": [
        "testoAcifrar = input()\n",
        "test.encrypt(\"hello\",testoAcifrar,128)\n",
        "cifrado =test.encrypt(\"hello\",testoAcifrar,128)\n",
        "print(cifrado)\n",
        "\n"
      ],
      "metadata": {
        "id": "L1kzrB4cNFb-",
        "colab": {
          "base_uri": "https://localhost:8080/"
        },
        "outputId": "0c065fc8-3a60-4cf9-c125-792c396b8bbd"
      },
      "execution_count": null,
      "outputs": [
        {
          "output_type": "stream",
          "name": "stdout",
          "text": [
            "Karishma\n",
            "b\"\\xbeN>\\xd2\\x15\\xa9\\xf3\\x83KO\\xb9\\t'\\xb8\\xf7\\xca\\x97\\xb10\\xb8\\x1c>\\xe7$Z0<\\x1d\\xda\\xe1/J\\xcb\\x08\\x05\\xf0\\x12\\x10\\x12\\xea\\x8f\\x19\\xa7\\x10\\x8a\\x99\\xf4\\x10\\xf7\\xd5\\xd222I\\xbf#\\xde9KK\\xf2%\\x85\\xd8\"\n"
          ]
        }
      ]
    },
    {
      "cell_type": "code",
      "source": [
        "test.decrypt(\"hello\",cifrado,128)\n"
      ],
      "metadata": {
        "id": "yH0epl0FPhAm",
        "colab": {
          "base_uri": "https://localhost:8080/"
        },
        "outputId": "be05e53d-0e31-44f9-f94c-6131d7cb6004"
      },
      "execution_count": null,
      "outputs": [
        {
          "output_type": "execute_result",
          "data": {
            "text/plain": [
              "b'Karisma'"
            ]
          },
          "metadata": {},
          "execution_count": 5
        }
      ]
    }
  ]
}