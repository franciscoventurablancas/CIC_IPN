{
  "nbformat": 4,
  "nbformat_minor": 0,
  "metadata": {
    "colab": {
      "name": "Criptografia1.ipynb",
      "provenance": []
    },
    "kernelspec": {
      "name": "python3",
      "display_name": "Python 3"
    },
    "language_info": {
      "name": "python"
    }
  },
  "cells": [
    {
      "cell_type": "markdown",
      "metadata": {
        "id": "vbkSCtmESSSF"
      },
      "source": [
        "**Analisis de frecuencia en texto**, en esta practica vamos a analizar la biblia, para ver que letra se repite con más frecuencia, los resultados los vamos a ver en el histograma."
      ]
    },
    {
      "cell_type": "code",
      "metadata": {
        "colab": {
          "base_uri": "https://localhost:8080/",
          "height": 967
        },
        "id": "HGLaxY32v1TN",
        "outputId": "63e81786-abf5-4990-c52d-dd55755ee31d"
      },
      "source": [
        "#Instituto Politecnico Nacional (Centro de Investigación en Computación)\n",
        "#Alumno Francisco Ventura Blancas\n",
        "\n",
        "import requests\n",
        "import re\n",
        "import matplotlib.pyplot as plt\n",
        "import json\n",
        "import pandas as pd \n",
        "\n",
        "#repositorio donde tengo el archivo\n",
        "# https://github.com/franciscoventurablancas/CIC_IPN/blob/master/Criptografia/poema.txt\n",
        "# https://raw.githubusercontent.com/franciscoventurablancas/CIC_IPN/master/Criptografia/abecedario.txt\n",
        "\n",
        "response = requests.get('https://raw.githubusercontent.com/franciscoventurablancas/CIC_IPN/master/Criptografia/bible.txt') #obtengo via Https el contenido del archivo\n",
        "text = response.text\n",
        "\n",
        "print(\"Imprime contenido del archivo : \\n\\n\" +text + \"\\n\\n\") #me bloquea porque es demasiado grande\n",
        "\n",
        "text = text.lower()\n",
        "text = re.sub(\"[^\\w ]\", \"\", text)\n",
        "text = re.sub(\"\\d+\", \"\", text)\n",
        "\n",
        "text = text.replace(\" \",\"\")\n",
        "\n",
        "\n",
        "res = {} \n",
        "for keys in text:\n",
        "    res[keys] = res.get(keys, 0) + 1\n",
        "\n",
        "\n",
        "# Imprimo el diccionario\n",
        "print (\"Imprime diccionario : \\n\"+  str(res)+ \"\\n\\n\")\n",
        "\n",
        "\n",
        "plt.bar(res.keys(), res.values())\n",
        "\n",
        "\n",
        "print(json.dumps(res, sort_keys=True, indent=4))\n"
      ],
      "execution_count": 106,
      "outputs": [
        {
          "output_type": "stream",
          "name": "stderr",
          "text": [
            "IOPub data rate exceeded.\n",
            "The notebook server will temporarily stop sending output\n",
            "to the client in order to avoid crashing it.\n",
            "To change this limit, set the config variable\n",
            "`--NotebookApp.iopub_data_rate_limit`.\n",
            "\n",
            "Current values:\n",
            "NotebookApp.iopub_data_rate_limit=1000000.0 (bytes/sec)\n",
            "NotebookApp.rate_limit_window=3.0 (secs)\n",
            "\n"
          ]
        },
        {
          "output_type": "stream",
          "name": "stdout",
          "text": [
            "Imprime diccionario : \n",
            "{'g': 58877, 'e': 437385, 'n': 236506, 's': 214156, 'i': 209062, 't': 323802, 'h': 292940, 'b': 52207, 'o': 253611, 'd': 160755, 'c': 61424, 'r': 179738, 'a': 291659, 'v': 32426, 'w': 66586, 'u': 91170, 'f': 83210, 'm': 90659, 'k': 26908, 'p': 46827, 'l': 140235, 'y': 59411, 'x': 2662, 'j': 13753, 'z': 4810, 'q': 953}\n",
            "\n",
            "\n",
            "{\n",
            "    \"a\": 291659,\n",
            "    \"b\": 52207,\n",
            "    \"c\": 61424,\n",
            "    \"d\": 160755,\n",
            "    \"e\": 437385,\n",
            "    \"f\": 83210,\n",
            "    \"g\": 58877,\n",
            "    \"h\": 292940,\n",
            "    \"i\": 209062,\n",
            "    \"j\": 13753,\n",
            "    \"k\": 26908,\n",
            "    \"l\": 140235,\n",
            "    \"m\": 90659,\n",
            "    \"n\": 236506,\n",
            "    \"o\": 253611,\n",
            "    \"p\": 46827,\n",
            "    \"q\": 953,\n",
            "    \"r\": 179738,\n",
            "    \"s\": 214156,\n",
            "    \"t\": 323802,\n",
            "    \"u\": 91170,\n",
            "    \"v\": 32426,\n",
            "    \"w\": 66586,\n",
            "    \"x\": 2662,\n",
            "    \"y\": 59411,\n",
            "    \"z\": 4810\n",
            "}\n"
          ]
        },
        {
          "output_type": "display_data",
          "data": {
            "image/png": "[encoded data removed]",
            "text/plain": [
              "<Figure size 432x288 with 1 Axes>"
            ]
          },
          "metadata": {
            "needs_background": "light"
          }
        }
      ]
    },
    {
      "cell_type": "markdown",
      "metadata": {
        "id": "jh-qx1rpTQ9I"
      },
      "source": [
        "**como se puede ver en el histograma la letra que más se repite es la letra E**"
      ]
    }
  ]
}