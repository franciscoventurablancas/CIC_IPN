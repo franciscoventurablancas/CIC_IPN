{
  "nbformat": 4,
  "nbformat_minor": 0,
  "metadata": {
    "colab": {
      "name": "RSA.ipynb",
      "provenance": []
    },
    "kernelspec": {
      "name": "python3",
      "display_name": "Python 3"
    },
    "language_info": {
      "name": "python"
    }
  },
  "cells": [
    {
      "cell_type": "code",
      "execution_count": null,
      "metadata": {
        "colab": {
          "base_uri": "https://localhost:8080/"
        },
        "id": "uYxfiM4hr9tm",
        "outputId": "d2c72a99-af3b-4285-c34b-a494e52298f7"
      },
      "outputs": [
        {
          "output_type": "stream",
          "name": "stdout",
          "text": [
            "Escriba el mensaje que desea encriptar : 94\n",
            "El mensaje original es:  94\n",
            "El mensaje encriptado es:  62.0\n"
          ]
        }
      ],
      "source": [
        "\n",
        "#implementacion RSA con numeros pequeños\n",
        "import math\n",
        " \n",
        "message = int(input(\"Escriba el mensaje que desea encriptar : \")) \n",
        " \n",
        "p = 11\n",
        "q = 7\n",
        "e = 3\n",
        " \n",
        "n = p*q\n",
        " \n",
        "def encrypt(me):\n",
        "    en = math.pow(me,e)\n",
        "    c = en % n\n",
        "    print(\"El mensaje encriptado es: \", c)\n",
        "    return c\n",
        " \n",
        "print(\"El mensaje original es: \", message)\n",
        "c = encrypt(message)"
      ]
    },
    {
      "cell_type": "code",
      "source": [
        "!pip install Crypto"
      ],
      "metadata": {
        "colab": {
          "base_uri": "https://localhost:8080/"
        },
        "id": "3OwmQYoyt_Rh",
        "outputId": "4fb74598-2d83-4b6f-809a-f0eadbf90f49"
      },
      "execution_count": null,
      "outputs": [
        {
          "output_type": "stream",
          "name": "stdout",
          "text": [
            "Requirement already satisfied: Crypto in /usr/local/lib/python3.7/dist-packages (1.4.1)\n",
            "Requirement already satisfied: shellescape in /usr/local/lib/python3.7/dist-packages (from Crypto) (3.8.1)\n",
            "Requirement already satisfied: Naked in /usr/local/lib/python3.7/dist-packages (from Crypto) (0.1.31)\n",
            "Requirement already satisfied: pyyaml in /usr/local/lib/python3.7/dist-packages (from Naked->Crypto) (3.13)\n",
            "Requirement already satisfied: requests in /usr/local/lib/python3.7/dist-packages (from Naked->Crypto) (2.23.0)\n",
            "Requirement already satisfied: certifi>=2017.4.17 in /usr/local/lib/python3.7/dist-packages (from requests->Naked->Crypto) (2021.10.8)\n",
            "Requirement already satisfied: chardet<4,>=3.0.2 in /usr/local/lib/python3.7/dist-packages (from requests->Naked->Crypto) (3.0.4)\n",
            "Requirement already satisfied: urllib3!=1.25.0,!=1.25.1,<1.26,>=1.21.1 in /usr/local/lib/python3.7/dist-packages (from requests->Naked->Crypto) (1.24.3)\n",
            "Requirement already satisfied: idna<3,>=2.5 in /usr/local/lib/python3.7/dist-packages (from requests->Naked->Crypto) (2.10)\n"
          ]
        }
      ]
    },
    {
      "cell_type": "code",
      "source": [
        "# coding: utf-8\n",
        "from __future__ import unicode_literals\n",
        "import base64\n",
        "import os\n",
        "import six\n",
        "\n",
        "\n",
        "\n",
        "\n",
        "class PublicKeyFileExists(Exception): pass\n",
        "\n",
        "\n",
        "class RSAEncryption(object):\n",
        "    PRIVATE_KEY_FILE_PATH = None\n",
        "    PUBLIC_KEY_FILE_PATH = None\n",
        "\n",
        "    def encrypt(self, message):\n",
        "        public_key = self._get_public_key()\n",
        "        public_key_object = RSA.importKey(public_key)\n",
        "        random_phrase = 'M'\n",
        "        encrypted_message = public_key_object.encrypt(self._to_format_for_encrypt(message), random_phrase)[0]\n",
        "        # use base64 for save encrypted_message in database without problems with encoding\n",
        "        return base64.b64encode(encrypted_message)\n",
        "\n",
        "    def decrypt(self, encoded_encrypted_message):\n",
        "        encrypted_message = base64.b64decode(encoded_encrypted_message)\n",
        "        private_key = self._get_private_key()\n",
        "        private_key_object = RSA.importKey(private_key)\n",
        "        decrypted_message = private_key_object.decrypt(encrypted_message)\n",
        "        return six.text_type(decrypted_message, encoding='utf8')\n",
        "\n",
        "    def generate_keys(self):\n",
        "        \"\"\"Be careful rewrite your keys\"\"\"\n",
        "        random_generator = Random.new().read\n",
        "        key = RSA.generate(1024, random_generator)\n",
        "        private, public = key.exportKey(), key.publickey().exportKey()\n",
        "\n",
        "        if os.path.isfile(self.PUBLIC_KEY_FILE_PATH):\n",
        "            raise PublicKeyFileExists('El archivo de clave publica existe. Eliminar la clave')\n",
        "        self.create_directories()\n",
        "\n",
        "        with open(self.PRIVATE_KEY_FILE_PATH, 'w') as private_file:\n",
        "            private_file.write(private)\n",
        "        with open(self.PUBLIC_KEY_FILE_PATH, 'w') as public_file:\n",
        "            public_file.write(public)\n",
        "        return private, public\n",
        "\n",
        "    def create_directories(self, for_private_key=True):\n",
        "        public_key_path = self.PUBLIC_KEY_FILE_PATH.rsplit('/', 1)\n",
        "        if not os.path.exists(public_key_path):\n",
        "            os.makedirs(public_key_path)\n",
        "        if for_private_key:\n",
        "            private_key_path = self.PRIVATE_KEY_FILE_PATH.rsplit('/', 1)\n",
        "            if not os.path.exists(private_key_path):\n",
        "                os.makedirs(private_key_path)\n",
        "\n",
        "    def _get_public_key(self):\n",
        "        \"\"\"run generate_keys() before get keys \"\"\"\n",
        "        with open(self.PUBLIC_KEY_FILE_PATH, 'r') as _file:\n",
        "            return _file.read()\n",
        "\n",
        "    def _get_private_key(self):\n",
        "        \"\"\"run generate_keys() before get keys \"\"\"\n",
        "        with open(self.PRIVATE_KEY_FILE_PATH, 'r') as _file:\n",
        "            return _file.read()\n",
        "\n",
        "    def _to_format_for_encrypt(value):\n",
        "        if isinstance(value, int):\n",
        "            return six.binary_type(value)\n",
        "        for str_type in six.string_types:\n",
        "            if isinstance(value, str_type):\n",
        "                return value.encode('utf8')\n",
        "        if isinstance(value, six.binary_type):\n",
        "            return value"
      ],
      "metadata": {
        "id": "n356q_Lwt7w4"
      },
      "execution_count": null,
      "outputs": []
    },
    {
      "cell_type": "code",
      "source": [
        "\n",
        "class TestingEncryption(RSAEncryption):\n",
        "    PRIVATE_KEY_FILE_PATH = KEYS_DIRECTORY + 'private.key'\n",
        "    PUBLIC_KEY_FILE_PATH = KEYS_DIRECTORY + 'public.key'\n",
        "\n",
        "\n",
        "# django/flask\n",
        "from django.core.files import File\n",
        "\n",
        "class ProductionEncryption(RSAEncryption):\n",
        "    PUBLIC_KEY_FILE_PATH = settings.SURVEY_DIR_WITH_ENCRYPTED_KEYS + 'public.key'\n",
        "\n",
        "    def _get_private_key(self):\n",
        "        \"\"\"run generate_keys() before get keys \"\"\"\n",
        "        from corportal.utils import global_elements\n",
        "        private_key = global_elements.request.FILES.get('private_key')\n",
        "        if private_key:\n",
        "            private_key_file = File(private_key)\n",
        "            return private_key_file.read()\n",
        "\n",
        "message = 'Hello my friend'\n",
        "encrypted_mes = ProductionEncryption().encrypt(message)\n",
        "decrypted_mes = ProductionEncryption().decrypt(message)"
      ],
      "metadata": {
        "colab": {
          "base_uri": "https://localhost:8080/",
          "height": 356
        },
        "id": "5sNAv4MiuwpA",
        "outputId": "031e1df3-127d-4605-8e8a-c0b15125fb54"
      },
      "execution_count": null,
      "outputs": [
        {
          "output_type": "error",
          "ename": "NameError",
          "evalue": "ignored",
          "traceback": [
            "\u001b[0;31m---------------------------------------------------------------------------\u001b[0m",
            "\u001b[0;31mNameError\u001b[0m                                 Traceback (most recent call last)",
            "\u001b[0;32m<ipython-input-25-5f71ac19b20a>\u001b[0m in \u001b[0;36m<module>\u001b[0;34m()\u001b[0m\n\u001b[1;32m      1\u001b[0m \u001b[0;34m\u001b[0m\u001b[0m\n\u001b[0;32m----> 2\u001b[0;31m \u001b[0;32mclass\u001b[0m \u001b[0mTestingEncryption\u001b[0m\u001b[0;34m(\u001b[0m\u001b[0mRSAEncryption\u001b[0m\u001b[0;34m)\u001b[0m\u001b[0;34m:\u001b[0m\u001b[0;34m\u001b[0m\u001b[0;34m\u001b[0m\u001b[0m\n\u001b[0m\u001b[1;32m      3\u001b[0m     \u001b[0mPRIVATE_KEY_FILE_PATH\u001b[0m \u001b[0;34m=\u001b[0m \u001b[0mKEYS_DIRECTORY\u001b[0m \u001b[0;34m+\u001b[0m \u001b[0;34m'private.key'\u001b[0m\u001b[0;34m\u001b[0m\u001b[0;34m\u001b[0m\u001b[0m\n\u001b[1;32m      4\u001b[0m     \u001b[0mPUBLIC_KEY_FILE_PATH\u001b[0m \u001b[0;34m=\u001b[0m \u001b[0mKEYS_DIRECTORY\u001b[0m \u001b[0;34m+\u001b[0m \u001b[0;34m'public.key'\u001b[0m\u001b[0;34m\u001b[0m\u001b[0;34m\u001b[0m\u001b[0m\n\u001b[1;32m      5\u001b[0m \u001b[0;34m\u001b[0m\u001b[0m\n",
            "\u001b[0;32m<ipython-input-25-5f71ac19b20a>\u001b[0m in \u001b[0;36mTestingEncryption\u001b[0;34m()\u001b[0m\n\u001b[1;32m      1\u001b[0m \u001b[0;34m\u001b[0m\u001b[0m\n\u001b[1;32m      2\u001b[0m \u001b[0;32mclass\u001b[0m \u001b[0mTestingEncryption\u001b[0m\u001b[0;34m(\u001b[0m\u001b[0mRSAEncryption\u001b[0m\u001b[0;34m)\u001b[0m\u001b[0;34m:\u001b[0m\u001b[0;34m\u001b[0m\u001b[0;34m\u001b[0m\u001b[0m\n\u001b[0;32m----> 3\u001b[0;31m     \u001b[0mPRIVATE_KEY_FILE_PATH\u001b[0m \u001b[0;34m=\u001b[0m \u001b[0mKEYS_DIRECTORY\u001b[0m \u001b[0;34m+\u001b[0m \u001b[0;34m'private.key'\u001b[0m\u001b[0;34m\u001b[0m\u001b[0;34m\u001b[0m\u001b[0m\n\u001b[0m\u001b[1;32m      4\u001b[0m     \u001b[0mPUBLIC_KEY_FILE_PATH\u001b[0m \u001b[0;34m=\u001b[0m \u001b[0mKEYS_DIRECTORY\u001b[0m \u001b[0;34m+\u001b[0m \u001b[0;34m'public.key'\u001b[0m\u001b[0;34m\u001b[0m\u001b[0;34m\u001b[0m\u001b[0m\n\u001b[1;32m      5\u001b[0m \u001b[0;34m\u001b[0m\u001b[0m\n",
            "\u001b[0;31mNameError\u001b[0m: name 'KEYS_DIRECTORY' is not defined"
          ]
        }
      ]
    }
  ]
}